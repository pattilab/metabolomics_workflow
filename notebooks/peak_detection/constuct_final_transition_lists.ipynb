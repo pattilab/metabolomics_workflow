{
 "cells": [
  {
   "cell_type": "code",
   "execution_count": 28,
   "metadata": {},
   "outputs": [],
   "source": [
    "import pandas as pd\n"
   ]
  },
  {
   "cell_type": "code",
   "execution_count": 33,
   "metadata": {},
   "outputs": [],
   "source": [
    "datadir = \"../MSMS/\"\n",
    "polarities = [\"pos/\",\"neg/\"]\n",
    "fn = \"filtered_results_combined.csv\"\n",
    "fn_annotation = {\"pos/\":\"Copy of putative_IDS_transition_list_MSH_v4.csv\",\"neg/\":\"putative_IDS_transition_list_MSH_v2.csv\"}\n",
    "mapper = {\"pos/\":\"POS\",\"neg/\":\"NEG\"}\n",
    "mzMapper = {\"pos/\":1.0073,\"neg/\":-1.0073}"
   ]
  },
  {
   "cell_type": "code",
   "execution_count": 35,
   "metadata": {},
   "outputs": [
    {
     "name": "stdout",
     "output_type": "stream",
     "text": [
      "(176, 22)\n",
      "(257, 22)\n"
     ]
    }
   ],
   "source": [
    "for pol in polarities:\n",
    "    data = pd.read_csv(datadir + pol + fn)\n",
    "    annotation = pd.read_csv(datadir + pol + fn_annotation[pol])\n",
    "    for column in [\"Tier MSH\",\"Comment MSH\",\"Curated name\"]:\n",
    "        data[column] = annotation[column]\n",
    "    data = data[data[\"Tier MSH\"] < 5]\n",
    "    toAdd = pd.read_csv(datadir + \"IROA_presence_in_plasma.csv\")\n",
    "    toAdd = toAdd[toAdd[\"NEG or POS\"] == mapper[pol]]\n",
    "    toDrop = [x for x in toAdd.index.values if toAdd.at[x,\"CAS ID\"] in data[\"DB_Compound_ID\"]]\n",
    "    toAdd = toAdd.drop(toDrop)\n",
    "    newDf = pd.DataFrame()\n",
    "    newDf[\"Tier MSH\"] = [1 for _ in range(len(toAdd))]\n",
    "    newDf[\"Comment MSH\"] = [\"added from IROA\" for _ in range(len(toAdd))]\n",
    "    newDf[\"Curated name\"] = [row[\"Compound Name\"] for _,row in toAdd.iterrows()]\n",
    "    newDf[\"found in other polarity\"] = ['no' for _ in range(len(toAdd))]\n",
    "    newDf[\"compound_m/z\"] = [row[\"Mass\"] + mzMapper[pol] for _,row in toAdd.iterrows()]\n",
    "    newDf[\"rt\"] = toAdd[\"RT\"].values\n",
    "    newDf[\"compound_rt\"] = toAdd[\"RT\"].values\n",
    "    newDf[\"compound_formula\"] = [row[\"Formula\"].replace(\" \",\"\") for _,row in toAdd.iterrows()]\n",
    "    newDf[\"DB_Compound_ID\"] = toAdd[\"CAS ID\"].values\n",
    "    newDf[\"Compound_Name\"] = toAdd[\"Compound Name\"].values\n",
    "    newDf[\"#featureID\"] = [-1 for _ in range(len(toAdd))]\n",
    "    for x in [\"#featureID\",\"isolation_center_m/z\",\"DB_Spectrum_ID\",\"dot_product\",\"ppm_Error\",\"isotope_similiarity\",\"Abundance\"]:\n",
    "        newDf[x] = [-1 for _ in range(len(toAdd))]\n",
    "    for x in [\"redundant\",\"Origin File\",\"Compound Matched to Multiple Feats\",\"same ID in other polarity\"]:\n",
    "        newDf[x] = [\"\" for _ in range(len(toAdd))]\n",
    "    data = pd.concat((data,newDf),axis=0,ignore_index=True)\n",
    "    data.to_csv(datadir + pol + \"filtered_results_combined_with_annotation_added_IROA.csv\",index=False)\n",
    "    print(data.shape)"
   ]
  },
  {
   "cell_type": "code",
   "execution_count": null,
   "metadata": {},
   "outputs": [],
   "source": []
  }
 ],
 "metadata": {
  "kernelspec": {
   "display_name": "Python 3",
   "language": "python",
   "name": "python3"
  },
  "language_info": {
   "codemirror_mode": {
    "name": "ipython",
    "version": 3
   },
   "file_extension": ".py",
   "mimetype": "text/x-python",
   "name": "python",
   "nbconvert_exporter": "python",
   "pygments_lexer": "ipython3",
   "version": "3.7.6"
  }
 },
 "nbformat": 4,
 "nbformat_minor": 4
}
